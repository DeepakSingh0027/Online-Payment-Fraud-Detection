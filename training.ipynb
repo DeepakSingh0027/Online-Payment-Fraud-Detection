{
 "cells": [
  {
   "cell_type": "code",
   "execution_count": 16,
   "id": "c90aab22",
   "metadata": {},
   "outputs": [],
   "source": [
    "import pandas as pd\n",
    "import numpy as np\n",
    "import matplotlib.pyplot as plt"
   ]
  },
  {
   "cell_type": "code",
   "execution_count": 17,
   "id": "f2287487",
   "metadata": {},
   "outputs": [],
   "source": [
    "data = pd.read_csv('data.csv')"
   ]
  },
  {
   "cell_type": "code",
   "execution_count": 18,
   "id": "7b60e5c1",
   "metadata": {},
   "outputs": [
    {
     "data": {
      "text/html": [
       "<div>\n",
       "<style scoped>\n",
       "    .dataframe tbody tr th:only-of-type {\n",
       "        vertical-align: middle;\n",
       "    }\n",
       "\n",
       "    .dataframe tbody tr th {\n",
       "        vertical-align: top;\n",
       "    }\n",
       "\n",
       "    .dataframe thead th {\n",
       "        text-align: right;\n",
       "    }\n",
       "</style>\n",
       "<table border=\"1\" class=\"dataframe\">\n",
       "  <thead>\n",
       "    <tr style=\"text-align: right;\">\n",
       "      <th></th>\n",
       "      <th>amount</th>\n",
       "      <th>oldbalanceOrg</th>\n",
       "      <th>newbalanceOrig</th>\n",
       "      <th>oldbalanceDest</th>\n",
       "      <th>newbalanceDest</th>\n",
       "      <th>isFraud</th>\n",
       "      <th>isFlaggedFraud</th>\n",
       "    </tr>\n",
       "  </thead>\n",
       "  <tbody>\n",
       "    <tr>\n",
       "      <th>1118710</th>\n",
       "      <td>133969.96</td>\n",
       "      <td>0.00</td>\n",
       "      <td>0.00</td>\n",
       "      <td>298996.92</td>\n",
       "      <td>432966.88</td>\n",
       "      <td>0</td>\n",
       "      <td>0</td>\n",
       "    </tr>\n",
       "    <tr>\n",
       "      <th>3850172</th>\n",
       "      <td>146188.47</td>\n",
       "      <td>10292.00</td>\n",
       "      <td>0.00</td>\n",
       "      <td>0.00</td>\n",
       "      <td>146188.47</td>\n",
       "      <td>0</td>\n",
       "      <td>0</td>\n",
       "    </tr>\n",
       "    <tr>\n",
       "      <th>3452404</th>\n",
       "      <td>157335.40</td>\n",
       "      <td>3159997.66</td>\n",
       "      <td>3317333.06</td>\n",
       "      <td>309847.25</td>\n",
       "      <td>152511.84</td>\n",
       "      <td>0</td>\n",
       "      <td>0</td>\n",
       "    </tr>\n",
       "    <tr>\n",
       "      <th>75037</th>\n",
       "      <td>10134.71</td>\n",
       "      <td>38731.00</td>\n",
       "      <td>28596.29</td>\n",
       "      <td>0.00</td>\n",
       "      <td>0.00</td>\n",
       "      <td>0</td>\n",
       "      <td>0</td>\n",
       "    </tr>\n",
       "    <tr>\n",
       "      <th>1878131</th>\n",
       "      <td>191966.25</td>\n",
       "      <td>31467.00</td>\n",
       "      <td>223433.25</td>\n",
       "      <td>0.00</td>\n",
       "      <td>0.00</td>\n",
       "      <td>0</td>\n",
       "      <td>0</td>\n",
       "    </tr>\n",
       "    <tr>\n",
       "      <th>2826118</th>\n",
       "      <td>26426.95</td>\n",
       "      <td>5352.00</td>\n",
       "      <td>0.00</td>\n",
       "      <td>0.00</td>\n",
       "      <td>0.00</td>\n",
       "      <td>0</td>\n",
       "      <td>0</td>\n",
       "    </tr>\n",
       "    <tr>\n",
       "      <th>5552585</th>\n",
       "      <td>38401.40</td>\n",
       "      <td>0.00</td>\n",
       "      <td>0.00</td>\n",
       "      <td>0.00</td>\n",
       "      <td>0.00</td>\n",
       "      <td>0</td>\n",
       "      <td>0</td>\n",
       "    </tr>\n",
       "    <tr>\n",
       "      <th>4997308</th>\n",
       "      <td>236034.44</td>\n",
       "      <td>5584.00</td>\n",
       "      <td>0.00</td>\n",
       "      <td>0.00</td>\n",
       "      <td>236034.44</td>\n",
       "      <td>0</td>\n",
       "      <td>0</td>\n",
       "    </tr>\n",
       "    <tr>\n",
       "      <th>4873531</th>\n",
       "      <td>96002.00</td>\n",
       "      <td>30384.00</td>\n",
       "      <td>0.00</td>\n",
       "      <td>310256.41</td>\n",
       "      <td>406258.41</td>\n",
       "      <td>0</td>\n",
       "      <td>0</td>\n",
       "    </tr>\n",
       "    <tr>\n",
       "      <th>385983</th>\n",
       "      <td>3390.08</td>\n",
       "      <td>0.00</td>\n",
       "      <td>0.00</td>\n",
       "      <td>0.00</td>\n",
       "      <td>0.00</td>\n",
       "      <td>0</td>\n",
       "      <td>0</td>\n",
       "    </tr>\n",
       "  </tbody>\n",
       "</table>\n",
       "</div>"
      ],
      "text/plain": [
       "            amount  oldbalanceOrg  newbalanceOrig  oldbalanceDest  \\\n",
       "1118710  133969.96           0.00            0.00       298996.92   \n",
       "3850172  146188.47       10292.00            0.00            0.00   \n",
       "3452404  157335.40     3159997.66      3317333.06       309847.25   \n",
       "75037     10134.71       38731.00        28596.29            0.00   \n",
       "1878131  191966.25       31467.00       223433.25            0.00   \n",
       "2826118   26426.95        5352.00            0.00            0.00   \n",
       "5552585   38401.40           0.00            0.00            0.00   \n",
       "4997308  236034.44        5584.00            0.00            0.00   \n",
       "4873531   96002.00       30384.00            0.00       310256.41   \n",
       "385983     3390.08           0.00            0.00            0.00   \n",
       "\n",
       "         newbalanceDest  isFraud  isFlaggedFraud  \n",
       "1118710       432966.88        0               0  \n",
       "3850172       146188.47        0               0  \n",
       "3452404       152511.84        0               0  \n",
       "75037              0.00        0               0  \n",
       "1878131            0.00        0               0  \n",
       "2826118            0.00        0               0  \n",
       "5552585            0.00        0               0  \n",
       "4997308       236034.44        0               0  \n",
       "4873531       406258.41        0               0  \n",
       "385983             0.00        0               0  "
      ]
     },
     "execution_count": 18,
     "metadata": {},
     "output_type": "execute_result"
    }
   ],
   "source": [
    "data = data[['amount', 'oldbalanceOrg', 'newbalanceOrig', 'oldbalanceDest', 'newbalanceDest', 'isFraud','isFlaggedFraud']]\n",
    "data.sample(10)"
   ]
  },
  {
   "cell_type": "code",
   "execution_count": 19,
   "id": "4787d91a",
   "metadata": {},
   "outputs": [
    {
     "data": {
      "text/plain": [
       "amount            0\n",
       "oldbalanceOrg     0\n",
       "newbalanceOrig    0\n",
       "oldbalanceDest    0\n",
       "newbalanceDest    0\n",
       "isFraud           0\n",
       "isFlaggedFraud    0\n",
       "dtype: int64"
      ]
     },
     "execution_count": 19,
     "metadata": {},
     "output_type": "execute_result"
    }
   ],
   "source": [
    "data.isnull().sum()"
   ]
  },
  {
   "cell_type": "code",
   "execution_count": 24,
   "id": "f1e7a5c2",
   "metadata": {},
   "outputs": [
    {
     "data": {
      "text/plain": [
       "<Axes: xlabel='isFraud'>"
      ]
     },
     "execution_count": 24,
     "metadata": {},
     "output_type": "execute_result"
    },
    {
     "data": {
      "image/png": "[encoded data removed]",
      "text/plain": [
       "<Figure size 640x480 with 1 Axes>"
      ]
     },
     "metadata": {},
     "output_type": "display_data"
    }
   ],
   "source": [
    "data['isFraud'].value_counts().plot(kind='bar')"
   ]
  },
  {
   "cell_type": "code",
   "execution_count": 26,
   "id": "49e62856",
   "metadata": {},
   "outputs": [
    {
     "data": {
      "text/plain": [
       "((6362620, 6), (6362620,))"
      ]
     },
     "execution_count": 26,
     "metadata": {},
     "output_type": "execute_result"
    }
   ],
   "source": [
    "x = data.drop('isFraud',axis=1)\n",
    "y = data['isFraud']\n",
    "x.shape, y.shape"
   ]
  },
  {
   "cell_type": "code",
   "execution_count": 27,
   "id": "683d2f27",
   "metadata": {},
   "outputs": [],
   "source": [
    "from sklearn.model_selection import train_test_split\n",
    "x_train, x_test, y_train, y_test = train_test_split(x,y,test_size=0.30,random_state=1)"
   ]
  },
  {
   "cell_type": "code",
   "execution_count": 44,
   "id": "76d4b107",
   "metadata": {},
   "outputs": [
    {
     "name": "stderr",
     "output_type": "stream",
     "text": [
      "c:\\Users\\Deepak\\AppData\\Local\\Programs\\Python\\Python312\\Lib\\site-packages\\sklearn\\svm\\_base.py:1250: ConvergenceWarning: Liblinear failed to converge, increase the number of iterations.\n",
      "  warnings.warn(\n"
     ]
    }
   ],
   "source": [
    "from sklearn.linear_model import LogisticRegression\n",
    "#model = LogisticRegression(solver='liblinear',class_weight='balanced') = 0.96126\n",
    "#model = LogisticRegression(solver='saga',class_weight='balanced') = 0.6735\n",
    "model = LogisticRegression(solver='liblinear') #= 0.9992\n",
    "classifier = model.fit(x_train,y_train)\n"
   ]
  },
  {
   "cell_type": "code",
   "execution_count": 45,
   "id": "398965c6",
   "metadata": {},
   "outputs": [],
   "source": [
    "y_predict = classifier.predict(x_test)"
   ]
  },
  {
   "cell_type": "code",
   "execution_count": 46,
   "id": "100b556f",
   "metadata": {},
   "outputs": [
    {
     "data": {
      "text/html": [
       "<div>\n",
       "<style scoped>\n",
       "    .dataframe tbody tr th:only-of-type {\n",
       "        vertical-align: middle;\n",
       "    }\n",
       "\n",
       "    .dataframe tbody tr th {\n",
       "        vertical-align: top;\n",
       "    }\n",
       "\n",
       "    .dataframe thead th {\n",
       "        text-align: right;\n",
       "    }\n",
       "</style>\n",
       "<table border=\"1\" class=\"dataframe\">\n",
       "  <thead>\n",
       "    <tr style=\"text-align: right;\">\n",
       "      <th></th>\n",
       "      <th>Actual</th>\n",
       "      <th>Predicted</th>\n",
       "    </tr>\n",
       "  </thead>\n",
       "  <tbody>\n",
       "    <tr>\n",
       "      <th>4062798</th>\n",
       "      <td>0</td>\n",
       "      <td>0</td>\n",
       "    </tr>\n",
       "    <tr>\n",
       "      <th>5515346</th>\n",
       "      <td>0</td>\n",
       "      <td>0</td>\n",
       "    </tr>\n",
       "    <tr>\n",
       "      <th>491397</th>\n",
       "      <td>0</td>\n",
       "      <td>0</td>\n",
       "    </tr>\n",
       "    <tr>\n",
       "      <th>4429555</th>\n",
       "      <td>0</td>\n",
       "      <td>0</td>\n",
       "    </tr>\n",
       "    <tr>\n",
       "      <th>5371498</th>\n",
       "      <td>0</td>\n",
       "      <td>0</td>\n",
       "    </tr>\n",
       "    <tr>\n",
       "      <th>3105842</th>\n",
       "      <td>0</td>\n",
       "      <td>0</td>\n",
       "    </tr>\n",
       "    <tr>\n",
       "      <th>4482778</th>\n",
       "      <td>0</td>\n",
       "      <td>0</td>\n",
       "    </tr>\n",
       "    <tr>\n",
       "      <th>2934078</th>\n",
       "      <td>0</td>\n",
       "      <td>0</td>\n",
       "    </tr>\n",
       "    <tr>\n",
       "      <th>1443547</th>\n",
       "      <td>0</td>\n",
       "      <td>0</td>\n",
       "    </tr>\n",
       "    <tr>\n",
       "      <th>4291028</th>\n",
       "      <td>0</td>\n",
       "      <td>0</td>\n",
       "    </tr>\n",
       "  </tbody>\n",
       "</table>\n",
       "</div>"
      ],
      "text/plain": [
       "         Actual  Predicted\n",
       "4062798       0          0\n",
       "5515346       0          0\n",
       "491397        0          0\n",
       "4429555       0          0\n",
       "5371498       0          0\n",
       "3105842       0          0\n",
       "4482778       0          0\n",
       "2934078       0          0\n",
       "1443547       0          0\n",
       "4291028       0          0"
      ]
     },
     "execution_count": 46,
     "metadata": {},
     "output_type": "execute_result"
    }
   ],
   "source": [
    "result = pd.DataFrame({'Actual':y_test, 'Predicted':y_predict})\n",
    "result.sample(10)"
   ]
  },
  {
   "cell_type": "code",
   "execution_count": 47,
   "id": "33142ac2",
   "metadata": {},
   "outputs": [
    {
     "name": "stdout",
     "output_type": "stream",
     "text": [
      "0.9992524044078278\n"
     ]
    }
   ],
   "source": [
    "from sklearn.metrics import accuracy_score\n",
    "print(accuracy_score(y_test, y_predict))"
   ]
  },
  {
   "cell_type": "code",
   "execution_count": 48,
   "id": "b8d66761",
   "metadata": {},
   "outputs": [
    {
     "name": "stdout",
     "output_type": "stream",
     "text": [
      "0.9992803952729267\n"
     ]
    }
   ],
   "source": [
    "y_train_pred = classifier.predict(x_train)\n",
    "print(accuracy_score(y_train, y_train_pred))"
   ]
  },
  {
   "cell_type": "code",
   "execution_count": 51,
   "id": "aa60d12c",
   "metadata": {},
   "outputs": [
    {
     "data": {
      "text/plain": [
       "array([[9.90914469e-01, 9.08553137e-03],\n",
       "       [5.78209055e-01, 4.21790945e-01],\n",
       "       [6.83086498e-01, 3.16913502e-01],\n",
       "       [9.99999508e-01, 4.91585074e-07],\n",
       "       [9.99693434e-01, 3.06566183e-04]])"
      ]
     },
     "execution_count": 51,
     "metadata": {},
     "output_type": "execute_result"
    }
   ],
   "source": [
    "y_test_prob = classifier.predict_proba(x_test)\n",
    "y_test_prob[:5,:]"
   ]
  },
  {
   "cell_type": "code",
   "execution_count": 53,
   "id": "b56ea70b",
   "metadata": {},
   "outputs": [
    {
     "data": {
      "text/plain": [
       "array([['0.9909144686275800', '0.0090855313724200'],\n",
       "       ['0.5782090546721556', '0.4217909453278444'],\n",
       "       ['0.6830864978323230', '0.3169135021676771'],\n",
       "       ['0.9999995084149257', '0.0000004915850743'],\n",
       "       ['0.9996934338165349', '0.0003065661834651']], dtype='<U18')"
      ]
     },
     "execution_count": 53,
     "metadata": {},
     "output_type": "execute_result"
    }
   ],
   "source": [
    "array_in_scientific = y_test_prob[:5,:]\n",
    "array_in_normal = np.vectorize(lambda x: format(x, '.16f'))(array_in_scientific)\n",
    "array_in_normal"
   ]
  },
  {
   "cell_type": "code",
   "execution_count": 58,
   "id": "83125161",
   "metadata": {},
   "outputs": [
    {
     "data": {
      "text/plain": [
       "array(['0.0090855313724200', '0.4217909453278444', '0.3169135021676771',\n",
       "       ..., '0.0000000000000000', '0.0000000000000000',\n",
       "       '0.3897303181791956'], dtype='<U18')"
      ]
     },
     "execution_count": 58,
     "metadata": {},
     "output_type": "execute_result"
    }
   ],
   "source": [
    "T = y_test_prob[:,1]\n",
    "array_in_one = T\n",
    "s = np.vectorize(lambda x:format(x,'.16f'))(array_in_one)\n",
    "s"
   ]
  },
  {
   "cell_type": "code",
   "execution_count": 60,
   "id": "476a9d50",
   "metadata": {},
   "outputs": [
    {
     "data": {
      "text/html": [
       "<div>\n",
       "<style scoped>\n",
       "    .dataframe tbody tr th:only-of-type {\n",
       "        vertical-align: middle;\n",
       "    }\n",
       "\n",
       "    .dataframe tbody tr th {\n",
       "        vertical-align: top;\n",
       "    }\n",
       "\n",
       "    .dataframe thead th {\n",
       "        text-align: right;\n",
       "    }\n",
       "</style>\n",
       "<table border=\"1\" class=\"dataframe\">\n",
       "  <thead>\n",
       "    <tr style=\"text-align: right;\">\n",
       "      <th></th>\n",
       "      <th>Actual</th>\n",
       "      <th>Predictions</th>\n",
       "      <th>Prob</th>\n",
       "    </tr>\n",
       "  </thead>\n",
       "  <tbody>\n",
       "    <tr>\n",
       "      <th>5595507</th>\n",
       "      <td>0</td>\n",
       "      <td>0</td>\n",
       "      <td>0.2571281866711488</td>\n",
       "    </tr>\n",
       "    <tr>\n",
       "      <th>1133131</th>\n",
       "      <td>0</td>\n",
       "      <td>0</td>\n",
       "      <td>0.0000000000000000</td>\n",
       "    </tr>\n",
       "    <tr>\n",
       "      <th>5885617</th>\n",
       "      <td>0</td>\n",
       "      <td>0</td>\n",
       "      <td>0.0000000000000000</td>\n",
       "    </tr>\n",
       "    <tr>\n",
       "      <th>5847456</th>\n",
       "      <td>0</td>\n",
       "      <td>0</td>\n",
       "      <td>0.4914426349101338</td>\n",
       "    </tr>\n",
       "    <tr>\n",
       "      <th>3847514</th>\n",
       "      <td>0</td>\n",
       "      <td>0</td>\n",
       "      <td>0.2469495229569772</td>\n",
       "    </tr>\n",
       "    <tr>\n",
       "      <th>2670755</th>\n",
       "      <td>0</td>\n",
       "      <td>0</td>\n",
       "      <td>0.0000000000000001</td>\n",
       "    </tr>\n",
       "    <tr>\n",
       "      <th>516246</th>\n",
       "      <td>0</td>\n",
       "      <td>0</td>\n",
       "      <td>0.0000000182384206</td>\n",
       "    </tr>\n",
       "    <tr>\n",
       "      <th>2850506</th>\n",
       "      <td>0</td>\n",
       "      <td>0</td>\n",
       "      <td>0.4631736194042690</td>\n",
       "    </tr>\n",
       "    <tr>\n",
       "      <th>3624938</th>\n",
       "      <td>0</td>\n",
       "      <td>0</td>\n",
       "      <td>0.0208656272904348</td>\n",
       "    </tr>\n",
       "    <tr>\n",
       "      <th>455239</th>\n",
       "      <td>0</td>\n",
       "      <td>0</td>\n",
       "      <td>0.0000000000004380</td>\n",
       "    </tr>\n",
       "  </tbody>\n",
       "</table>\n",
       "</div>"
      ],
      "text/plain": [
       "         Actual  Predictions                Prob\n",
       "5595507       0            0  0.2571281866711488\n",
       "1133131       0            0  0.0000000000000000\n",
       "5885617       0            0  0.0000000000000000\n",
       "5847456       0            0  0.4914426349101338\n",
       "3847514       0            0  0.2469495229569772\n",
       "2670755       0            0  0.0000000000000001\n",
       "516246        0            0  0.0000000182384206\n",
       "2850506       0            0  0.4631736194042690\n",
       "3624938       0            0  0.0208656272904348\n",
       "455239        0            0  0.0000000000004380"
      ]
     },
     "execution_count": 60,
     "metadata": {},
     "output_type": "execute_result"
    }
   ],
   "source": [
    "result = pd.DataFrame({'Actual':y_test,'Predictions':y_predict,'Prob':s})\n",
    "result.sample(10)"
   ]
  },
  {
   "cell_type": "code",
   "execution_count": 61,
   "id": "2179f466",
   "metadata": {},
   "outputs": [
    {
     "name": "stdout",
     "output_type": "stream",
     "text": [
      "[[1905716     602]\n",
      " [    825    1643]]\n"
     ]
    }
   ],
   "source": [
    "from sklearn.metrics import confusion_matrix\n",
    "cm=confusion_matrix(y_test,y_predict)\n",
    "print(cm)"
   ]
  },
  {
   "cell_type": "code",
   "execution_count": 62,
   "id": "b89f1dc2",
   "metadata": {},
   "outputs": [
    {
     "data": {
      "text/plain": [
       "Text(95.72222222222221, 0.5, 'Actual')"
      ]
     },
     "execution_count": 62,
     "metadata": {},
     "output_type": "execute_result"
    },
    {
     "data": {
      "image/png": "[encoded data removed]",
      "text/plain": [
       "<Figure size 1000x700 with 2 Axes>"
      ]
     },
     "metadata": {},
     "output_type": "display_data"
    }
   ],
   "source": [
    "import seaborn as sns\n",
    "plt.figure(figsize=(10,7))\n",
    "sns.heatmap(cm, annot=True)\n",
    "plt.title('Test Data - Confusion Matrix')\n",
    "plt.xlabel('Predicted')\n",
    "plt.ylabel('Actual')"
   ]
  },
  {
   "cell_type": "code",
   "execution_count": 65,
   "id": "4166fc70",
   "metadata": {},
   "outputs": [
    {
     "data": {
      "image/png": "[encoded data removed]",
      "text/plain": [
       "<Figure size 640x480 with 1 Axes>"
      ]
     },
     "metadata": {},
     "output_type": "display_data"
    }
   ],
   "source": [
    "plt.clf()\n",
    "plt.imshow(cm, interpolation='nearest', cmap=plt.cm.prism)\n",
    "classNames = ['Non-Fraud','Fraud']\n",
    "plt.title('Test Data - Confusion Matrix')\n",
    "plt.ylabel('Actual label')\n",
    "plt.xlabel('Predicted label')\n",
    "tick_marks = np.arange(len(classNames))\n",
    "plt.xticks(tick_marks, classNames)\n",
    "plt.yticks(tick_marks, classNames)\n",
    "s = [['TN','FP'],['FN','TP']]\n",
    "for i in range(2):\n",
    "    for j in range(2):\n",
    "        plt.text(j,i, str(s[i][j])+\" = \"+str(cm[i][j]))\n",
    "plt.show()"
   ]
  },
  {
   "cell_type": "code",
   "execution_count": 66,
   "id": "84b9e484",
   "metadata": {},
   "outputs": [
    {
     "name": "stdout",
     "output_type": "stream",
     "text": [
      "              precision    recall  f1-score   support\n",
      "\n",
      "           0       1.00      1.00      1.00   1906318\n",
      "           1       0.73      0.67      0.70      2468\n",
      "\n",
      "    accuracy                           1.00   1908786\n",
      "   macro avg       0.87      0.83      0.85   1908786\n",
      "weighted avg       1.00      1.00      1.00   1908786\n",
      "\n"
     ]
    }
   ],
   "source": [
    "from sklearn.metrics import classification_report\n",
    "print(classification_report(y_test,y_predict))"
   ]
  },
  {
   "cell_type": "code",
   "execution_count": 68,
   "id": "45c221a9",
   "metadata": {},
   "outputs": [
    {
     "name": "stdout",
     "output_type": "stream",
     "text": [
      "Recall:  0.6657212317666127\n",
      "Precision:  0.7318485523385301\n"
     ]
    }
   ],
   "source": [
    "TN = cm[0][0]\n",
    "TP = cm[1][1]\n",
    "FP = cm[0][1]\n",
    "FN = cm[1][0]\n",
    "recall = TP/(TP+FN)\n",
    "precision = TP/(TP+FP) \n",
    "print('Recall: ',recall)\n",
    "print('Precision: ',precision)"
   ]
  },
  {
   "cell_type": "code",
   "execution_count": 69,
   "id": "62ea61c8",
   "metadata": {},
   "outputs": [],
   "source": [
    "import pickle\n",
    "with open('model.pkl','wb') as f:\n",
    "    pickle.dump(classifier,f)"
   ]
  }
 ],
 "metadata": {
  "kernelspec": {
   "display_name": "Python 3",
   "language": "python",
   "name": "python3"
  },
  "language_info": {
   "codemirror_mode": {
    "name": "ipython",
    "version": 3
   },
   "file_extension": ".py",
   "mimetype": "text/x-python",
   "name": "python",
   "nbconvert_exporter": "python",
   "pygments_lexer": "ipython3",
   "version": "3.12.0"
  }
 },
 "nbformat": 4,
 "nbformat_minor": 5
}
