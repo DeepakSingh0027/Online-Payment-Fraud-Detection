{
 "cells": [
  {
   "cell_type": "code",
   "execution_count": 1,
   "id": "f4c6d677",
   "metadata": {},
   "outputs": [],
   "source": [
    "import pickle \n",
    "with open('model.pkl','rb') as f:\n",
    "    loaded_model = pickle.load(f)\n"
   ]
  },
  {
   "cell_type": "code",
   "execution_count": 5,
   "id": "52fe403e",
   "metadata": {},
   "outputs": [],
   "source": [
    "import pandas as pd\n",
    "data  = pd.read_csv('data.csv')\n",
    "data = data[['amount', 'oldbalanceOrg', 'newbalanceOrig', 'oldbalanceDest', 'newbalanceDest', 'isFraud','isFlaggedFraud']]"
   ]
  },
  {
   "cell_type": "code",
   "execution_count": 7,
   "id": "a910d31b",
   "metadata": {},
   "outputs": [],
   "source": [
    "data.sample(10)\n",
    "testing_data = data.drop('isFraud',axis=1)\n",
    "actual = data['isFraud']"
   ]
  },
  {
   "cell_type": "code",
   "execution_count": 8,
   "id": "236228ef",
   "metadata": {},
   "outputs": [],
   "source": [
    "y_predict = loaded_model.predict(testing_data)"
   ]
  },
  {
   "cell_type": "code",
   "execution_count": 9,
   "id": "45878833",
   "metadata": {},
   "outputs": [],
   "source": [
    "result = pd.DataFrame({'Actual':actual,'Predicted':y_predict})"
   ]
  },
  {
   "cell_type": "code",
   "execution_count": 11,
   "id": "7402674f",
   "metadata": {},
   "outputs": [
    {
     "name": "stdout",
     "output_type": "stream",
     "text": [
      "              precision    recall  f1-score   support\n",
      "\n",
      "           0       1.00      1.00      1.00   6354407\n",
      "           1       0.74      0.67      0.70      8213\n",
      "\n",
      "    accuracy                           1.00   6362620\n",
      "   macro avg       0.87      0.84      0.85   6362620\n",
      "weighted avg       1.00      1.00      1.00   6362620\n",
      "\n"
     ]
    }
   ],
   "source": [
    "result.sample(10)\n",
    "from sklearn.metrics import classification_report\n",
    "print(classification_report(actual,y_predict))"
   ]
  },
  {
   "cell_type": "code",
   "execution_count": 12,
   "id": "082be591",
   "metadata": {},
   "outputs": [],
   "source": [
    "from sklearn.metrics import accuracy_score,confusion_matrix\n",
    "accuracy = accuracy_score(actual,y_predict)"
   ]
  },
  {
   "cell_type": "code",
   "execution_count": 13,
   "id": "2c288016",
   "metadata": {},
   "outputs": [
    {
     "data": {
      "text/plain": [
       "0.999271998013397"
      ]
     },
     "execution_count": 13,
     "metadata": {},
     "output_type": "execute_result"
    }
   ],
   "source": [
    "accuracy"
   ]
  },
  {
   "cell_type": "code",
   "execution_count": 14,
   "id": "5b301c82",
   "metadata": {},
   "outputs": [
    {
     "data": {
      "text/plain": [
       "array([[6352464,    1943],\n",
       "       [   2689,    5524]], dtype=int64)"
      ]
     },
     "execution_count": 14,
     "metadata": {},
     "output_type": "execute_result"
    }
   ],
   "source": [
    "cm = confusion_matrix(actual,y_predict)\n",
    "cm"
   ]
  },
  {
   "cell_type": "code",
   "execution_count": 15,
   "id": "1180ae93",
   "metadata": {},
   "outputs": [
    {
     "data": {
      "text/plain": [
       "Text(58.222222222222214, 0.5, 'Actual')"
      ]
     },
     "execution_count": 15,
     "metadata": {},
     "output_type": "execute_result"
    },
    {
     "data": {
      "image/png": "[encoded data removed]",
      "text/plain": [
       "<Figure size 700x1000 with 2 Axes>"
      ]
     },
     "metadata": {},
     "output_type": "display_data"
    }
   ],
   "source": [
    "import seaborn as sns\n",
    "import matplotlib.pyplot as plt\n",
    "plt.figure(figsize=(7,10))\n",
    "sns.heatmap(cm,annot=True,fmt='d',cmap='Blues')\n",
    "plt.xlabel('Predicted')\n",
    "plt.ylabel('Actual')"
   ]
  }
 ],
 "metadata": {
  "kernelspec": {
   "display_name": "Python 3",
   "language": "python",
   "name": "python3"
  },
  "language_info": {
   "codemirror_mode": {
    "name": "ipython",
    "version": 3
   },
   "file_extension": ".py",
   "mimetype": "text/x-python",
   "name": "python",
   "nbconvert_exporter": "python",
   "pygments_lexer": "ipython3",
   "version": "3.12.0"
  }
 },
 "nbformat": 4,
 "nbformat_minor": 5
}
